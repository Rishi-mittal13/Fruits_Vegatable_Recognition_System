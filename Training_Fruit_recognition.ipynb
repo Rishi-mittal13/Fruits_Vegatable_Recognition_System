{
  "cells": [
    {
      "cell_type": "markdown",
      "metadata": {
        "id": "8aULKlK-4_jm"
      },
      "source": [
        "Importing DataSet"
      ]
    },
    {
      "cell_type": "code",
      "execution_count": null,
      "metadata": {
        "colab": {
          "base_uri": "https://localhost:8080/"
        },
        "id": "fMY9NkyrRvxD",
        "outputId": "f3fc7ff5-2fde-45d2-a7c9-e47305ec0362"
      },
      "outputs": [
        {
          "name": "stdout",
          "output_type": "stream",
          "text": [
            "Drive already mounted at /content/drive; to attempt to forcibly remount, call drive.mount(\"/content/drive\", force_remount=True).\n"
          ]
        }
      ],
      "source": [
        "from google.colab import drive\n",
        "drive.mount('/content/drive')"
      ]
    },
    {
      "cell_type": "markdown",
      "metadata": {
        "id": "USFHy1n17o18"
      },
      "source": [
        "#importing libraries"
      ]
    },
    {
      "cell_type": "code",
      "execution_count": null,
      "metadata": {
        "id": "fDqbkM277v46"
      },
      "outputs": [],
      "source": [
        "import numpy as np\n",
        "import tensorflow as tf\n",
        "import matplotlib.pyplot as plt"
      ]
    },
    {
      "cell_type": "markdown",
      "metadata": {
        "id": "nLvNl9Tq8ZyZ"
      },
      "source": [
        "#DataPreprocessing\n"
      ]
    },
    {
      "cell_type": "markdown",
      "metadata": {
        "id": "XEql7fylAGj6"
      },
      "source": [
        "##training image preprocessing ."
      ]
    },
    {
      "cell_type": "code",
      "execution_count": null,
      "metadata": {
        "colab": {
          "base_uri": "https://localhost:8080/"
        },
        "id": "39_Q1Q5F8fOX",
        "outputId": "79b23830-d862-437e-c66a-118d307cc491"
      },
      "outputs": [
        {
          "name": "stdout",
          "output_type": "stream",
          "text": [
            "Found 3115 files belonging to 36 classes.\n"
          ]
        }
      ],
      "source": [
        "training_set = tf.keras.utils.image_dataset_from_directory(\n",
        "    '/content/drive/MyDrive/Fruit_Vegetable_Recgonition/train',\n",
        "    labels=\"inferred\",\n",
        "    label_mode=\"categorical\",\n",
        "    class_names=None,\n",
        "    color_mode=\"rgb\",\n",
        "    batch_size=32,\n",
        "    image_size=(64, 64),\n",
        "    shuffle=True,\n",
        "    seed=None,\n",
        "    validation_split=None,\n",
        "    subset=None,\n",
        "    interpolation=\"bilinear\",\n",
        "    follow_links=False,\n",
        "    crop_to_aspect_ratio=False\n",
        ")"
      ]
    },
    {
      "cell_type": "markdown",
      "metadata": {
        "id": "dAHDv95aFwQF"
      },
      "source": [
        "##Validation Image Processing"
      ]
    },
    {
      "cell_type": "code",
      "execution_count": null,
      "metadata": {
        "colab": {
          "base_uri": "https://localhost:8080/"
        },
        "id": "M5Y3cp5MF1F9",
        "outputId": "facc6528-1888-4ccb-b961-c87681dbb8e7"
      },
      "outputs": [
        {
          "name": "stdout",
          "output_type": "stream",
          "text": [
            "Found 351 files belonging to 36 classes.\n"
          ]
        }
      ],
      "source": [
        "validation_set = tf.keras.utils.image_dataset_from_directory(\n",
        "    '/content/drive/MyDrive/Fruit_Vegetable_Recgonition/validation',\n",
        "    labels=\"inferred\",\n",
        "    label_mode=\"categorical\",\n",
        "    class_names=None,\n",
        "    color_mode=\"rgb\",\n",
        "    batch_size=32,\n",
        "    image_size=(64, 64),\n",
        "    shuffle=True,\n",
        "    seed=None,\n",
        "    validation_split=None,\n",
        "    subset=None,\n",
        "    interpolation=\"bilinear\",\n",
        "    follow_links=False,\n",
        "    crop_to_aspect_ratio=False\n",
        ")"
      ]
    },
    {
      "cell_type": "markdown",
      "metadata": {
        "id": "kX9LTiBkuS-a"
      },
      "source": [
        "##building model"
      ]
    },
    {
      "cell_type": "code",
      "execution_count": null,
      "metadata": {
        "id": "yLo_QX2RukxR"
      },
      "outputs": [],
      "source": [
        "cnn =  tf.keras.models.Sequential()"
      ]
    },
    {
      "cell_type": "markdown",
      "metadata": {
        "id": "M64AcDvlvFiJ"
      },
      "source": [
        "##Building Convolution Layer\n"
      ]
    },
    {
      "cell_type": "code",
      "execution_count": null,
      "metadata": {
        "id": "7Ldpx_vovM99"
      },
      "outputs": [],
      "source": [
        "cnn.add(tf.keras.layers.Conv2D(filters=32,kernel_size=3,padding='same',activation='relu',input_shape=[64,64,3]))\n",
        "cnn.add(tf.keras.layers.Conv2D(filters=32,kernel_size=3,activation='relu'))\n",
        "cnn.add(tf.keras.layers.MaxPool2D(pool_size=2,strides=2))"
      ]
    },
    {
      "cell_type": "code",
      "execution_count": null,
      "metadata": {
        "id": "aVeZyOO5LGkH"
      },
      "outputs": [],
      "source": [
        "cnn.add(tf.keras.layers.Dropout(0.25))"
      ]
    },
    {
      "cell_type": "code",
      "execution_count": null,
      "metadata": {
        "id": "8sxpurZdx_LB"
      },
      "outputs": [],
      "source": [
        "cnn.add(tf.keras.layers.Conv2D(filters=64,kernel_size=3,activation='relu'))\n",
        "cnn.add(tf.keras.layers.Conv2D(filters=32,kernel_size=3,activation='relu'))\n",
        "cnn.add(tf.keras.layers.MaxPool2D(pool_size=2,strides=2))"
      ]
    },
    {
      "cell_type": "code",
      "execution_count": null,
      "metadata": {
        "id": "KnzfsLUbLNQb"
      },
      "outputs": [],
      "source": [
        "cnn.add(tf.keras.layers.Dropout(0.25))"
      ]
    },
    {
      "cell_type": "code",
      "execution_count": null,
      "metadata": {
        "id": "goUZkzuvyXvw"
      },
      "outputs": [],
      "source": [
        "cnn.add(tf.keras.layers.Flatten())"
      ]
    },
    {
      "cell_type": "code",
      "execution_count": null,
      "metadata": {
        "id": "jlcUp2VLyrTs"
      },
      "outputs": [],
      "source": [
        "cnn.add(tf.keras.layers.Dense(units=512,activation='relu'))"
      ]
    },
    {
      "cell_type": "code",
      "execution_count": null,
      "metadata": {
        "id": "t7PqnGYhKgq6"
      },
      "outputs": [],
      "source": [
        "cnn.add(tf.keras.layers.Dense(units=256,activation='relu'))"
      ]
    },
    {
      "cell_type": "code",
      "execution_count": null,
      "metadata": {
        "id": "U9tem47JyOJT"
      },
      "outputs": [],
      "source": [
        "cnn.add(tf.keras.layers.Dropout(0.5)) #to avoid overfitting ."
      ]
    },
    {
      "cell_type": "code",
      "execution_count": null,
      "metadata": {
        "id": "NfF5yuBXyyyr"
      },
      "outputs": [],
      "source": [
        "#Output Layer\n",
        "cnn.add(tf.keras.layers.Dense(units=36,activation='softmax'))"
      ]
    },
    {
      "cell_type": "markdown",
      "metadata": {
        "id": "peEer_ml2KlF"
      },
      "source": [
        "#compiling and Training Phase"
      ]
    },
    {
      "cell_type": "code",
      "execution_count": null,
      "metadata": {
        "id": "mipZo-yK2TGH"
      },
      "outputs": [],
      "source": [
        "cnn.compile(optimizer='rmsprop',loss='categorical_crossentropy',metrics=['accuracy'])"
      ]
    },
    {
      "cell_type": "code",
      "execution_count": null,
      "metadata": {
        "colab": {
          "base_uri": "https://localhost:8080/"
        },
        "id": "3hAOqF6n2f9l",
        "outputId": "b78bf229-4a50-4ce0-90e6-f074a28e440b"
      },
      "outputs": [
        {
          "name": "stdout",
          "output_type": "stream",
          "text": [
            "Model: \"sequential\"\n",
            "_________________________________________________________________\n",
            " Layer (type)                Output Shape              Param #   \n",
            "=================================================================\n",
            " conv2d (Conv2D)             (None, 64, 64, 32)        896       \n",
            "                                                                 \n",
            " conv2d_1 (Conv2D)           (None, 62, 62, 32)        9248      \n",
            "                                                                 \n",
            " max_pooling2d (MaxPooling2  (None, 31, 31, 32)        0         \n",
            " D)                                                              \n",
            "                                                                 \n",
            " dropout (Dropout)           (None, 31, 31, 32)        0         \n",
            "                                                                 \n",
            " conv2d_2 (Conv2D)           (None, 29, 29, 64)        18496     \n",
            "                                                                 \n",
            " conv2d_3 (Conv2D)           (None, 27, 27, 32)        18464     \n",
            "                                                                 \n",
            " max_pooling2d_1 (MaxPoolin  (None, 13, 13, 32)        0         \n",
            " g2D)                                                            \n",
            "                                                                 \n",
            " dropout_1 (Dropout)         (None, 13, 13, 32)        0         \n",
            "                                                                 \n",
            " flatten (Flatten)           (None, 5408)              0         \n",
            "                                                                 \n",
            " dense (Dense)               (None, 512)               2769408   \n",
            "                                                                 \n",
            " dense_1 (Dense)             (None, 256)               131328    \n",
            "                                                                 \n",
            " dropout_2 (Dropout)         (None, 256)               0         \n",
            "                                                                 \n",
            " dense_2 (Dense)             (None, 36)                9252      \n",
            "                                                                 \n",
            "=================================================================\n",
            "Total params: 2957092 (11.28 MB)\n",
            "Trainable params: 2957092 (11.28 MB)\n",
            "Non-trainable params: 0 (0.00 Byte)\n",
            "_________________________________________________________________\n"
          ]
        }
      ],
      "source": [
        "cnn.summary()"
      ]
    },
    {
      "cell_type": "code",
      "execution_count": null,
      "metadata": {
        "id": "28MQmHQ-Kwtn"
      },
      "outputs": [],
      "source": []
    },
    {
      "cell_type": "code",
      "execution_count": null,
      "metadata": {
        "colab": {
          "background_save": true,
          "base_uri": "https://localhost:8080/"
        },
        "id": "wbqecc6v289Z",
        "outputId": "a9e98ed9-8de7-4996-8ff0-0a1f7a39727b"
      },
      "outputs": [
        {
          "name": "stdout",
          "output_type": "stream",
          "text": [
            "Epoch 1/32\n",
            "98/98 [==============================] - 540s 5s/step - loss: 6.5499 - accuracy: 0.0263 - val_loss: 3.5831 - val_accuracy: 0.0256\n",
            "Epoch 2/32\n",
            "98/98 [==============================] - 132s 1s/step - loss: 3.6071 - accuracy: 0.0270 - val_loss: 3.5826 - val_accuracy: 0.0256\n",
            "Epoch 3/32\n",
            "98/98 [==============================] - 140s 1s/step - loss: 3.7191 - accuracy: 0.0331 - val_loss: 5.2967 - val_accuracy: 0.0285\n",
            "Epoch 4/32\n",
            "98/98 [==============================] - 144s 1s/step - loss: 3.6304 - accuracy: 0.0430 - val_loss: 3.3655 - val_accuracy: 0.0655\n",
            "Epoch 5/32\n",
            "98/98 [==============================] - 148s 1s/step - loss: 3.4389 - accuracy: 0.0549 - val_loss: 3.3267 - val_accuracy: 0.0969\n",
            "Epoch 6/32\n",
            "98/98 [==============================] - 131s 1s/step - loss: 3.3194 - accuracy: 0.0770 - val_loss: 3.0240 - val_accuracy: 0.2023\n",
            "Epoch 7/32\n",
            "98/98 [==============================] - 130s 1s/step - loss: 3.1974 - accuracy: 0.1175 - val_loss: 2.8246 - val_accuracy: 0.1966\n",
            "Epoch 8/32\n",
            "98/98 [==============================] - 148s 1s/step - loss: 3.0416 - accuracy: 0.1579 - val_loss: 2.4969 - val_accuracy: 0.3248\n",
            "Epoch 9/32\n",
            "98/98 [==============================] - 131s 1s/step - loss: 2.8261 - accuracy: 0.2250 - val_loss: 2.2114 - val_accuracy: 0.3732\n",
            "Epoch 10/32\n",
            "98/98 [==============================] - 130s 1s/step - loss: 2.6565 - accuracy: 0.2552 - val_loss: 2.1338 - val_accuracy: 0.4330\n",
            "Epoch 11/32\n",
            "98/98 [==============================] - 139s 1s/step - loss: 2.5084 - accuracy: 0.2931 - val_loss: 2.0769 - val_accuracy: 0.4900\n",
            "Epoch 12/32\n",
            "98/98 [==============================] - 144s 1s/step - loss: 2.3431 - accuracy: 0.3364 - val_loss: 1.6732 - val_accuracy: 0.5385\n",
            "Epoch 13/32\n",
            "98/98 [==============================] - 140s 1s/step - loss: 2.2076 - accuracy: 0.3804 - val_loss: 1.7647 - val_accuracy: 0.5356\n",
            "Epoch 14/32\n",
            "98/98 [==============================] - 138s 1s/step - loss: 2.1034 - accuracy: 0.4103 - val_loss: 1.5516 - val_accuracy: 0.6011\n",
            "Epoch 15/32\n",
            "98/98 [==============================] - 140s 1s/step - loss: 2.0172 - accuracy: 0.4392 - val_loss: 1.7263 - val_accuracy: 0.5470\n",
            "Epoch 16/32\n",
            "98/98 [==============================] - 149s 1s/step - loss: 1.8939 - accuracy: 0.4774 - val_loss: 1.3792 - val_accuracy: 0.6296\n",
            "Epoch 17/32\n",
            "98/98 [==============================] - 140s 1s/step - loss: 1.7716 - accuracy: 0.5072 - val_loss: 1.4514 - val_accuracy: 0.6752\n",
            "Epoch 18/32\n",
            "98/98 [==============================] - 131s 1s/step - loss: 1.6821 - accuracy: 0.5258 - val_loss: 1.2330 - val_accuracy: 0.7009\n",
            "Epoch 19/32\n",
            "98/98 [==============================] - 139s 1s/step - loss: 1.5875 - accuracy: 0.5596 - val_loss: 1.4910 - val_accuracy: 0.6325\n",
            "Epoch 20/32\n",
            "98/98 [==============================] - 145s 1s/step - loss: 1.5253 - accuracy: 0.5753 - val_loss: 1.4308 - val_accuracy: 0.6724\n",
            "Epoch 21/32\n",
            "44/98 [============>.................] - ETA: 1:08 - loss: 1.5193 - accuracy: 0.5795"
          ]
        }
      ],
      "source": [
        "training_history = cnn.fit(x=training_set,validation_data=validation_set,epochs=32)"
      ]
    },
    {
      "cell_type": "markdown",
      "metadata": {
        "id": "5AixvOQ1MZSU"
      },
      "source": [
        "##saving"
      ]
    },
    {
      "cell_type": "markdown",
      "metadata": {
        "id": "cXZvMUItRb9f"
      },
      "source": []
    },
    {
      "cell_type": "code",
      "execution_count": null,
      "metadata": {
        "colab": {
          "base_uri": "https://localhost:8080/"
        },
        "id": "VZlYA2tXMbSU",
        "outputId": "e40c4c06-d094-40d6-92a7-b3d94abe72fa"
      },
      "outputs": [
        {
          "name": "stderr",
          "output_type": "stream",
          "text": [
            "/usr/local/lib/python3.10/dist-packages/keras/src/engine/training.py:3079: UserWarning: You are saving your model as an HDF5 file via `model.save()`. This file format is considered legacy. We recommend using instead the native Keras format, e.g. `model.save('my_model.keras')`.\n",
            "  saving_api.save_model(\n"
          ]
        }
      ],
      "source": [
        "cnn.save('trained_modelF.h5')"
      ]
    },
    {
      "cell_type": "code",
      "execution_count": null,
      "metadata": {
        "colab": {
          "base_uri": "https://localhost:8080/",
          "height": 175
        },
        "id": "IEVLr7GIM9TK",
        "outputId": "9a68fe15-b91b-479e-b820-faa74e45290b"
      },
      "outputs": [
        {
          "ename": "NameError",
          "evalue": "ignored",
          "output_type": "error",
          "traceback": [
            "\u001b[0;31m---------------------------------------------------------------------------\u001b[0m",
            "\u001b[0;31mNameError\u001b[0m                                 Traceback (most recent call last)",
            "\u001b[0;32m<ipython-input-19-c71cbc6e3a94>\u001b[0m in \u001b[0;36m<cell line: 1>\u001b[0;34m()\u001b[0m\n\u001b[0;32m----> 1\u001b[0;31m \u001b[0mtraining_history\u001b[0m\u001b[0;34m.\u001b[0m\u001b[0mhistory\u001b[0m\u001b[0;34m\u001b[0m\u001b[0;34m\u001b[0m\u001b[0m\n\u001b[0m",
            "\u001b[0;31mNameError\u001b[0m: name 'training_history' is not defined"
          ]
        }
      ],
      "source": [
        "training_history.history"
      ]
    },
    {
      "cell_type": "code",
      "execution_count": null,
      "metadata": {
        "id": "YeSvREbXMrja"
      },
      "outputs": [],
      "source": [
        "#recording History\n",
        "import json\n",
        "with open('training_hist.json' , 'w') as f :\n",
        "  json.dump(training_history.history , f)\n"
      ]
    },
    {
      "cell_type": "code",
      "execution_count": null,
      "metadata": {
        "colab": {
          "base_uri": "https://localhost:8080/"
        },
        "id": "4qoMZNHNNqed",
        "outputId": "aeb4feef-f806-47aa-8b30-7956344afbf6"
      },
      "outputs": [
        {
          "name": "stdout",
          "output_type": "stream",
          "text": [
            "dict_keys(['loss', 'accuracy', 'val_loss', 'val_accuracy'])\n"
          ]
        }
      ],
      "source": [
        "print(training_history.history.keys())"
      ]
    },
    {
      "cell_type": "markdown",
      "metadata": {
        "id": "Q9gjuOISOIhc"
      },
      "source": [
        "##Calculating Accuracy of Model Achieved on Validation set"
      ]
    },
    {
      "cell_type": "code",
      "execution_count": null,
      "metadata": {
        "colab": {
          "base_uri": "https://localhost:8080/",
          "height": 175
        },
        "id": "fpQ-4l0BOKYW",
        "outputId": "74138010-ef15-4bde-c6bc-1c8b897f114b"
      },
      "outputs": [
        {
          "ename": "NameError",
          "evalue": "ignored",
          "output_type": "error",
          "traceback": [
            "\u001b[0;31m---------------------------------------------------------------------------\u001b[0m",
            "\u001b[0;31mNameError\u001b[0m                                 Traceback (most recent call last)",
            "\u001b[0;32m<ipython-input-20-dbbf6f7e7627>\u001b[0m in \u001b[0;36m<cell line: 1>\u001b[0;34m()\u001b[0m\n\u001b[0;32m----> 1\u001b[0;31m \u001b[0mprint\u001b[0m\u001b[0;34m(\u001b[0m\u001b[0;34m\"Validation set Accuracy: {} %\"\u001b[0m\u001b[0;34m.\u001b[0m\u001b[0mformat\u001b[0m\u001b[0;34m(\u001b[0m\u001b[0mtraining_history\u001b[0m\u001b[0;34m.\u001b[0m\u001b[0mhistory\u001b[0m\u001b[0;34m[\u001b[0m\u001b[0;34m'val_accuracy'\u001b[0m\u001b[0;34m]\u001b[0m\u001b[0;34m[\u001b[0m\u001b[0;34m-\u001b[0m\u001b[0;36m1\u001b[0m\u001b[0;34m]\u001b[0m\u001b[0;34m*\u001b[0m\u001b[0;36m100\u001b[0m\u001b[0;34m)\u001b[0m\u001b[0;34m)\u001b[0m\u001b[0;34m\u001b[0m\u001b[0;34m\u001b[0m\u001b[0m\n\u001b[0m",
            "\u001b[0;31mNameError\u001b[0m: name 'training_history' is not defined"
          ]
        }
      ],
      "source": [
        "print(\"Validation set Accuracy: {} %\".format(training_history.history['val_accuracy'][-1]*100))"
      ]
    },
    {
      "cell_type": "code",
      "execution_count": null,
      "metadata": {
        "id": "kEO2g4s0Z16a"
      },
      "outputs": [],
      "source": []
    }
  ],
  "metadata": {
    "colab": {
      "provenance": []
    },
    "kernelspec": {
      "display_name": "Python 3",
      "name": "python3"
    },
    "language_info": {
      "name": "python"
    }
  },
  "nbformat": 4,
  "nbformat_minor": 0
}